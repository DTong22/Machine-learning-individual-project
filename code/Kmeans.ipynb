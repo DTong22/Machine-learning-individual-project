{
 "cells": [
  {
   "cell_type": "code",
   "execution_count": null,
   "id": "09bf5d8d",
   "metadata": {},
   "outputs": [],
   "source": [
    "import matplotlib.pyplot as plt\n",
    "import pandas as pd\n",
    "import numpy as np\n",
    "import matplotlib.cm as cm\n",
    "from sklearn.cluster import KMeans\n",
    "from sklearn.metrics import silhouette_score\n",
    "import seaborn as sns"
   ]
  },
  {
   "cell_type": "code",
   "execution_count": null,
   "id": "271e01c4",
   "metadata": {},
   "outputs": [],
   "source": [
    "#read csv\n",
    "df = pd.read_csv('fulldata_new1.csv', header=None)\n",
    "df"
   ]
  },
  {
   "cell_type": "code",
   "execution_count": null,
   "id": "cb48e612",
   "metadata": {},
   "outputs": [],
   "source": [
    "#name columns\n",
    "df.columns = ['Structure', 'index', 'relaxed', 't_half', 't2', 't3']\n",
    "df[\"Structure\"] = df[\"Structure\"].str.replace(\"npStruct_\",\"\")\n",
    "df"
   ]
  },
  {
   "cell_type": "code",
   "execution_count": null,
   "id": "6ff97d48",
   "metadata": {},
   "outputs": [],
   "source": [
    "#null values in t half\n",
    "df['t_half'].isnull().values.sum()"
   ]
  },
  {
   "cell_type": "code",
   "execution_count": null,
   "id": "4bb3c0ad",
   "metadata": {},
   "outputs": [],
   "source": [
    "df = df[df['t_half'].notna()]\n",
    "df['t_half'].isnull().values.sum()"
   ]
  },
  {
   "cell_type": "code",
   "execution_count": null,
   "id": "c7310455",
   "metadata": {},
   "outputs": [],
   "source": [
    "plt.figure(figsize=(16,10))\n",
    "plt.scatter(df['Structure'], df['t_half'], c=df['relaxed'], cmap='viridis', alpha=0.05)\n",
    "plt.xticks(rotation='vertical')\n",
    "plt.grid()\n",
    "plt.legend()\n",
    "plt.ylabel('t_half')\n",
    "plt.xlabel('Structure')"
   ]
  },
  {
   "cell_type": "code",
   "execution_count": null,
   "id": "e3d2daef",
   "metadata": {},
   "outputs": [],
   "source": [
    "median = df.groupby('Structure').median()\n",
    "median.reset_index(inplace = True)\n",
    "median"
   ]
  },
  {
   "cell_type": "code",
   "execution_count": null,
   "id": "a7a08504",
   "metadata": {},
   "outputs": [],
   "source": [
    "#assign colour to structure\n",
    "cmap = cm.get_cmap('Spectral')\n",
    "colour_dict = pd.Series({k:cmap(np.random.rand()) for k in df['Structure'].unique()})\n",
    "colour_dict.name = 'colour_dict'\n",
    "df = pd.merge(df, colour_dict, how='left', left_on='Structure', right_index=True)\n",
    "df"
   ]
  },
  {
   "cell_type": "code",
   "execution_count": null,
   "id": "db272c7d",
   "metadata": {},
   "outputs": [],
   "source": [
    "# Create a figure and an Axes3D object\n",
    "fig = plt.figure(figsize=(16,12))\n",
    "ax = fig.add_subplot(111, projection='3d')\n",
    "\n",
    "# Use the scatter function to plot the data points\n",
    "ax.scatter(df['t_half'], df['t2'], df['t3'], c=df['colour_dict'])\n",
    "ax.set_xlabel('t half')\n",
    "ax.set_ylabel('t 1/3')\n",
    "ax.set_zlabel('t 2/3')\n",
    "plt.show()"
   ]
  },
  {
   "cell_type": "code",
   "execution_count": null,
   "id": "5ada27a6",
   "metadata": {},
   "outputs": [],
   "source": [
    "X = median.drop(columns=['Structure', 'index', 'relaxed', 't2', 't3'])\n",
    "X.head()"
   ]
  },
  {
   "cell_type": "code",
   "execution_count": null,
   "id": "e4d46334",
   "metadata": {},
   "outputs": [],
   "source": [
    "# Extract the data as a NumPy array\n",
    "data = X.values"
   ]
  },
  {
   "cell_type": "code",
   "execution_count": null,
   "id": "5ff1f7ce",
   "metadata": {},
   "outputs": [],
   "source": [
    "from sklearn.preprocessing import StandardScaler\n",
    "scaler = StandardScaler().fit(X)\n",
    "data_scaled = scaler.transform(X)"
   ]
  },
  {
   "cell_type": "code",
   "execution_count": null,
   "id": "6e76263d",
   "metadata": {},
   "outputs": [],
   "source": [
    "inertias = []\n",
    "\n",
    "for i in range(1,10):\n",
    "    kmeans = KMeans(n_clusters=i)\n",
    "    kmeans.fit(data_scaled)\n",
    "    inertias.append(kmeans.inertia_)\n",
    "    \n",
    "plt.plot(range(1,10), inertias, marker='o')\n",
    "plt.title('Elbow method')\n",
    "plt.xlabel('Number of clusters')\n",
    "plt.ylabel('Inertia')\n",
    "plt.show()"
   ]
  },
  {
   "cell_type": "code",
   "execution_count": null,
   "id": "2f7da6a8",
   "metadata": {},
   "outputs": [],
   "source": [
    "kmeans_per_k = [KMeans(n_clusters=k).fit(data_scaled) for k in range(1,42)]\n",
    "\n",
    "silhouette_scores = [silhouette_score(data_scaled, model.labels_)\n",
    "                     for model in kmeans_per_k[1:]]"
   ]
  },
  {
   "cell_type": "code",
   "execution_count": null,
   "id": "ab2abce1",
   "metadata": {},
   "outputs": [],
   "source": [
    "plt.plot(range(2,42), silhouette_scores, marker='o', label = 'silhouette curve')\n",
    "plt.xlabel(\"$k$\", fontsize=14)\n",
    "plt.ylabel(\"Silhouette score\", fontsize=14)\n",
    "plt.ylim(ymin=0)\n",
    "plt.grid()"
   ]
  },
  {
   "cell_type": "code",
   "execution_count": null,
   "id": "8b41f00b",
   "metadata": {},
   "outputs": [],
   "source": [
    "# Create a KMeans model with 3 clusters\n",
    "kmeans = KMeans(n_clusters=3)\n",
    "\n",
    "# Fit the model to the data\n",
    "kmeans.fit(data_scaled)\n",
    "\n",
    "# Predict the cluster labels for each data point\n",
    "labels = kmeans.predict(data_scaled)\n",
    "\n",
    "# Add the cluster labels to the DataFrame as a new column\n",
    "X['cluster'] = labels\n",
    "X.head()"
   ]
  },
  {
   "cell_type": "code",
   "execution_count": null,
   "id": "177c072f",
   "metadata": {},
   "outputs": [],
   "source": [
    "plt.figure(figsize=(12.8,8))\n",
    "plt.scatter(median['Structure'], median['t_half'], c=X['cluster'], cmap='viridis')\n",
    "plt.xticks(rotation='vertical')\n",
    "plt.grid()\n",
    "plt.ylabel('t_half')\n",
    "plt.xlabel('Structure')\n",
    "plt.title('median t-half cluster plot')"
   ]
  },
  {
   "cell_type": "code",
   "execution_count": null,
   "id": "a9b31a82",
   "metadata": {},
   "outputs": [],
   "source": [
    "df1 = median.join(X['cluster'])\n",
    "df1.head()"
   ]
  },
  {
   "cell_type": "code",
   "execution_count": null,
   "id": "166b2231",
   "metadata": {},
   "outputs": [],
   "source": [
    "df1 = df1.drop(columns=['index', 'relaxed', 't_half', 't2', 't3'])\n",
    "df1.head()"
   ]
  },
  {
   "cell_type": "code",
   "execution_count": null,
   "id": "acda82fe",
   "metadata": {},
   "outputs": [],
   "source": [
    "inner = pd.merge(df, df1)\n",
    "inner"
   ]
  },
  {
   "cell_type": "code",
   "execution_count": null,
   "id": "9bb4e3aa",
   "metadata": {},
   "outputs": [],
   "source": [
    "inner.plot.scatter(x='Structure',\n",
    "               y='t_half',\n",
    "               alpha=0.01,\n",
    "               c=inner['cluster'],\n",
    "               cmap = 'viridis',\n",
    "               figsize=(16,10),\n",
    "               title='x intercept for different structures',\n",
    "               grid=True,\n",
    "               xlabel='Structures',\n",
    "               ylabel='log t half')\n",
    "plt.xticks(rotation='vertical')"
   ]
  },
  {
   "attachments": {},
   "cell_type": "markdown",
   "id": "55c7cda9",
   "metadata": {},
   "source": [
    "# Classification"
   ]
  },
  {
   "cell_type": "code",
   "execution_count": null,
   "id": "76c9c79b",
   "metadata": {},
   "outputs": [],
   "source": [
    "from sklearn.model_selection import train_test_split, GridSearchCV, ShuffleSplit, RandomizedSearchCV\n",
    "from sklearn.linear_model import LogisticRegression\n",
    "from sklearn.svm import SVC\n",
    "from sklearn import metrics\n",
    "import seaborn as sns\n",
    "from sklearn.model_selection import cross_val_score\n",
    "from sklearn.metrics import accuracy_score, f1_score, roc_auc_score, precision_score, recall_score, make_scorer\n",
    "from sklearn.ensemble import RandomForestClassifier\n",
    "from sklearn.neighbors import KNeighborsClassifier\n",
    "from sklearn.tree import DecisionTreeClassifier\n",
    "from sklearn.neural_network import MLPClassifier\n",
    "from sklearn.pipeline import Pipeline"
   ]
  },
  {
   "cell_type": "code",
   "execution_count": null,
   "id": "0e14fcb4",
   "metadata": {},
   "outputs": [],
   "source": [
    "inner"
   ]
  },
  {
   "cell_type": "code",
   "execution_count": null,
   "id": "dfaeacfc",
   "metadata": {},
   "outputs": [],
   "source": [
    "X = inner.drop(columns = ['Structure','index', 'relaxed', 't2', 't3', 'colour_dict', 'cluster'])\n",
    "y = inner['Structure']"
   ]
  },
  {
   "cell_type": "code",
   "execution_count": null,
   "id": "1f86875e",
   "metadata": {},
   "outputs": [],
   "source": [
    "df= pd.read_csv('fulldata.csv', header=None)\n",
    "X = df.iloc[:,3:]\n",
    "y = df.iloc[:,0]"
   ]
  },
  {
   "cell_type": "code",
   "execution_count": null,
   "id": "fafb1d19",
   "metadata": {},
   "outputs": [],
   "source": [
    "X_train, X_test, y_train, y_test = train_test_split(X, y, test_size = 0.2,random_state = (1)) #create random train test split"
   ]
  },
  {
   "cell_type": "code",
   "execution_count": null,
   "id": "588f44a8",
   "metadata": {},
   "outputs": [],
   "source": [
    "X.describe()"
   ]
  },
  {
   "cell_type": "code",
   "execution_count": null,
   "id": "e3d66dbf",
   "metadata": {},
   "outputs": [],
   "source": [
    "scaler = StandardScaler().fit(X_train)\n",
    "X_train_scaled= scaler.transform(X_train)\n",
    "X_test_scaled = scaler.transform(X_test)\n",
    "\n",
    "X_train_scaled= pd.DataFrame(X_train_scaled)\n",
    "X_test_scaled = pd.DataFrame(X_test_scaled)\n",
    "np.round(X_train_scaled.describe(), 2)"
   ]
  },
  {
   "cell_type": "code",
   "execution_count": null,
   "id": "e613636e",
   "metadata": {},
   "outputs": [],
   "source": [
    "from sklearn.multiclass import OneVsRestClassifier\n",
    "logreg = RandomForestClassifier(random_state=1)\n",
    "logreg.fit(X_train_scaled, y_train) #define logistic regression model\n",
    "print('train accuracy =', logreg.score(X_train_scaled, y_train))\n",
    "print('test accuracy =', logreg.score(X_test_scaled, y_test))"
   ]
  },
  {
   "cell_type": "code",
   "execution_count": null,
   "id": "d39abc73",
   "metadata": {},
   "outputs": [],
   "source": [
    "cross_val_score(logreg, X_train_scaled, y_train, cv=3, scoring='accuracy')"
   ]
  },
  {
   "cell_type": "code",
   "execution_count": null,
   "id": "8d79ef01",
   "metadata": {},
   "outputs": [],
   "source": [
    "from sklearn.model_selection import cross_val_predict\n",
    "y_train_pred = cross_val_predict(logreg, X_train_scaled, y_train, cv=3)\n",
    "conf_mx = metrics.confusion_matrix(y_train, y_train_pred)\n",
    "plt.matshow(conf_mx, cmap=plt.cm.gray)\n",
    "plt.show"
   ]
  },
  {
   "cell_type": "code",
   "execution_count": null,
   "id": "c6f1a4e9",
   "metadata": {},
   "outputs": [],
   "source": [
    "plt.figure(figsize=(42,42))\n",
    "row_sums = conf_mx.sum(axis=1, keepdims=True)\n",
    "norm_conf_mx = conf_mx / row_sums\n",
    "np.fill_diagonal(norm_conf_mx, 0)\n",
    "plt.matshow(norm_conf_mx, cmap=plt.cm.gray)\n",
    "plt.show()"
   ]
  },
  {
   "cell_type": "code",
   "execution_count": null,
   "id": "c4e20e65",
   "metadata": {},
   "outputs": [],
   "source": [
    "print(metrics.classification_report(y_train, y_train_pred, zero_division=0))"
   ]
  },
  {
   "cell_type": "code",
   "execution_count": null,
   "id": "d820832e",
   "metadata": {},
   "outputs": [],
   "source": [
    "plt.figure(figsize=(8,6))\n",
    "sns.violinplot(x='cluster', y='t_half', data = inner)"
   ]
  }
 ],
 "metadata": {
  "kernelspec": {
   "display_name": "Python 3 (ipykernel)",
   "language": "python",
   "name": "python3"
  },
  "language_info": {
   "codemirror_mode": {
    "name": "ipython",
    "version": 3
   },
   "file_extension": ".py",
   "mimetype": "text/x-python",
   "name": "python",
   "nbconvert_exporter": "python",
   "pygments_lexer": "ipython3",
   "version": "3.9.15"
  }
 },
 "nbformat": 4,
 "nbformat_minor": 5
}
