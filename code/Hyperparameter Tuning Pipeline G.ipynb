{
 "cells": [
  {
   "cell_type": "code",
   "execution_count": null,
   "id": "adf2aa5a",
   "metadata": {},
   "outputs": [],
   "source": [
    "import matplotlib.pyplot as plt\n",
    "import pandas as pd\n",
    "import numpy as np\n",
    "from sklearn.preprocessing import StandardScaler\n",
    "from sklearn.compose import ColumnTransformer\n",
    "from sklearn.model_selection import train_test_split, GridSearchCV, ShuffleSplit\n",
    "from sklearn.linear_model import LogisticRegression\n",
    "from sklearn.svm import SVC\n",
    "from sklearn.ensemble import RandomForestClassifier\n",
    "from sklearn.neighbors import KNeighborsClassifier\n",
    "from sklearn.tree import DecisionTreeClassifier\n",
    "from sklearn.neural_network import MLPClassifier\n",
    "from sklearn.pipeline import Pipeline\n",
    "from sklearn.exceptions import ConvergenceWarning\n",
    "from sklearn import set_config\n",
    "from warnings import simplefilter\n",
    "simplefilter(\"ignore\", category=ConvergenceWarning)"
   ]
  },
  {
   "cell_type": "code",
   "execution_count": null,
   "id": "8d55133e",
   "metadata": {},
   "outputs": [],
   "source": [
    "df= pd.read_csv('fulldata.csv', header=None)\n",
    "X = df.iloc[:,3:]\n",
    "y = df.iloc[:,0]"
   ]
  },
  {
   "cell_type": "code",
   "execution_count": null,
   "id": "aa196dea",
   "metadata": {},
   "outputs": [],
   "source": [
    "X_train, X_test, y_train, y_test = train_test_split(X, y, test_size = 0.2,random_state = (1)) #create random train test split"
   ]
  },
  {
   "cell_type": "code",
   "execution_count": null,
   "id": "02f6741a",
   "metadata": {},
   "outputs": [],
   "source": [
    "X_train = X_train.to_numpy()\n",
    "y_train = y_train.to_numpy()\n",
    "X_test = X_test.to_numpy()\n",
    "y_test = y_test.to_numpy()\n",
    "X_train.shape, X_test.shape, y_train.shape, y_test.shape"
   ]
  },
  {
   "cell_type": "code",
   "execution_count": null,
   "id": "0d3c7b6b",
   "metadata": {},
   "outputs": [],
   "source": [
    "scaler  = StandardScaler().fit(X_train)\n",
    "X_train = scaler.transform(X_train)\n",
    "X_test  = scaler.transform(X_test)"
   ]
  },
  {
   "cell_type": "code",
   "execution_count": null,
   "id": "df75c38b",
   "metadata": {},
   "outputs": [],
   "source": [
    "X.describe()"
   ]
  },
  {
   "cell_type": "code",
   "execution_count": null,
   "id": "776b677b",
   "metadata": {},
   "outputs": [],
   "source": [
    "ct = ColumnTransformer(\n",
    "     [('scaler', StandardScaler(),['t_half'])])"
   ]
  },
  {
   "cell_type": "code",
   "execution_count": null,
   "id": "4a4cbbfb",
   "metadata": {},
   "outputs": [],
   "source": [
    "clf1 = LogisticRegression(random_state=1, multi_class='ovr')\n",
    "clf2 = SVC()\n",
    "clf3 = KNeighborsClassifier()\n",
    "clf4 = RandomForestClassifier(random_state= 1)\n",
    "clf5 = DecisionTreeClassifier(random_state= 1)\n",
    "clf6 = MLPClassifier()"
   ]
  },
  {
   "cell_type": "code",
   "execution_count": null,
   "id": "78dc9935",
   "metadata": {},
   "outputs": [],
   "source": [
    "pipe = Pipeline([('preprocessor', ct), ('classifier', clf1)])"
   ]
  },
  {
   "cell_type": "code",
   "execution_count": null,
   "id": "f32bf46f",
   "metadata": {},
   "outputs": [],
   "source": [
    "set_config(display='diagram')"
   ]
  },
  {
   "cell_type": "code",
   "execution_count": null,
   "id": "84147b4c",
   "metadata": {},
   "outputs": [],
   "source": [
    "pipe"
   ]
  },
  {
   "cell_type": "code",
   "execution_count": null,
   "id": "f8ff3d1b",
   "metadata": {},
   "outputs": [],
   "source": [
    "params1 = {}\n",
    "params1[\"classifier__penalty\"] = ['l2']\n",
    "params1[\"classifier__C\"] = [0, 1, 3, 5, 10]\n",
    "params1[\"classifier__solver\"] = ['lbfgs','newton-cg','saga','sag','liblinear']\n",
    "params1[\"classifier\"] = [clf1]"
   ]
  },
  {
   "cell_type": "code",
   "execution_count": null,
   "id": "748d80b7",
   "metadata": {},
   "outputs": [],
   "source": [
    "params2 = {}\n",
    "params2[\"classifier__C\"] = [0.1, 1, 10, 100, 1000]\n",
    "params2[\"classifier__gamma\"] = [1, 0.1, 0.01, 0.001, 0.0001]\n",
    "params2[\"classifier__kernel\"] = ['rbf'] \n",
    "params2[\"classifier\"] = [clf2]"
   ]
  },
  {
   "cell_type": "code",
   "execution_count": null,
   "id": "64b50dd0",
   "metadata": {},
   "outputs": [],
   "source": [
    "params3 = {}\n",
    "params3[\"classifier__n_neighbors\"] = [1, 3, 5, 10 ,15, 20]\n",
    "params3[\"classifier__weights\"] = ['uniform', 'distance']\n",
    "params3[\"classifier__metric\"] = ['euclidean', 'manhattan', 'minkowski']\n",
    "params3[\"classifier\"] = [clf3]"
   ]
  },
  {
   "cell_type": "code",
   "execution_count": null,
   "id": "da1d9134",
   "metadata": {},
   "outputs": [],
   "source": [
    "params4 = {}\n",
    "params4[\"classifier__n_estimators\"] = [100, 200]\n",
    "params4[\"classifier__min_samples_leaf\"] = [1,2]\n",
    "params4[\"classifier\"] = [clf4]"
   ]
  },
  {
   "cell_type": "code",
   "execution_count": null,
   "id": "216484bc",
   "metadata": {},
   "outputs": [],
   "source": [
    "params5 = {}\n",
    "params5[\"classifier__max_depth\"] = [2, 3, 5, 10, 20]\n",
    "params5[\"classifier__min_samples_leaf\"] = [5, 10, 20, 50, 100]\n",
    "params5[\"classifier__criterion\"] = [\"gini\", \"entropy\"]\n",
    "params5[\"classifier\"] = [clf5]"
   ]
  },
  {
   "cell_type": "code",
   "execution_count": null,
   "id": "906e07c9",
   "metadata": {},
   "outputs": [],
   "source": [
    "params6 = {}\n",
    "params6[\"classifier__hidden_layer_sizes\"] = [(10,30,10),(20,)]\n",
    "params6[\"classifier__activation\"] = ['tanh', 'relu']\n",
    "params6[\"classifier__solver\"] = ['sgd', 'adam']\n",
    "params6[\"classifier__alpha\"] =  [0.0001, 0.05]\n",
    "params6[\"classifier__learning_rate\"] = ['constant','adaptive']\n",
    "params6[\"classifier\"] = [clf6]"
   ]
  },
  {
   "cell_type": "code",
   "execution_count": null,
   "id": "f66ba5d6",
   "metadata": {},
   "outputs": [],
   "source": [
    "params = [params1, params2, params3, params4, params5, params6]"
   ]
  },
  {
   "cell_type": "code",
   "execution_count": null,
   "id": "ff972b4d",
   "metadata": {},
   "outputs": [],
   "source": [
    "for param in params:\n",
    "    grid = GridSearchCV(pipe, param, cv=5)\n",
    "    grid.fit(X_train, y_train)\n",
    "    print('Score:', grid.best_score_)\n",
    "    print('Score:', grid.best_params_)"
   ]
  }
 ],
 "metadata": {
  "kernelspec": {
   "display_name": "Python 3 (ipykernel)",
   "language": "python",
   "name": "python3"
  },
  "language_info": {
   "codemirror_mode": {
    "name": "ipython",
    "version": 3
   },
   "file_extension": ".py",
   "mimetype": "text/x-python",
   "name": "python",
   "nbconvert_exporter": "python",
   "pygments_lexer": "ipython3",
   "version": "3.9.15"
  }
 },
 "nbformat": 4,
 "nbformat_minor": 5
}
